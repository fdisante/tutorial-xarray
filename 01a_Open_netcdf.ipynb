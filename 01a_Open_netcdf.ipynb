{
 "cells": [
  {
   "cell_type": "markdown",
   "id": "96535338",
   "metadata": {
    "slideshow": {
     "slide_type": "slide"
    }
   },
   "source": [
    "<h1 style=\"text-align: center;\">Handling netcdf files using xarray</h1>"
   ]
  },
  {
   "cell_type": "markdown",
   "id": "9a7115b4-e9b7-447b-9e41-bdff969866a6",
   "metadata": {},
   "source": [
    "##### Overview of all available data visualization packages in python   https://pyviz.org/"
   ]
  },
  {
   "cell_type": "markdown",
   "id": "50a9ba86-a514-4474-9da5-d7b1d9edc1e0",
   "metadata": {},
   "source": [
    "### Why xarray? <br> (xarray main characteristics)"
   ]
  },
  {
   "cell_type": "markdown",
   "id": "db24d867-3974-4824-a7dc-5ff2c6f4e11a",
   "metadata": {},
   "source": [
    "#### Database-like alignment based on coordinate labels that smoothly handles missing values: x, y = xr.align(x, y, join='outer')"
   ]
  },
  {
   "cell_type": "markdown",
   "id": "019d3bdd-9753-4624-a007-38d947ca5669",
   "metadata": {},
   "source": [
    "This feature of xarray allows you to align two or more xarray objects (such as DataArray or Dataset) based on coordinate labels, even in the presence of missing values.\n",
    "\n",
    "In practice, the function xr.align(x, y, join='outer') takes two xarray objects (x and y) and aligns them so that they have the same coordinates. The join='outer' option creates a union of the coordinates of x and y, inserting NaN where data is missing in one of the two objects."
   ]
  },
  {
   "cell_type": "code",
   "execution_count": null,
   "id": "1c49ad7b-81c8-4288-8b5d-80410ec1e47e",
   "metadata": {},
   "outputs": [],
   "source": [
    "import pandas as pd\n",
    "import xarray as xr\n",
    "import numpy as np"
   ]
  },
  {
   "cell_type": "code",
   "execution_count": null,
   "id": "b9c60462-a718-4a0f-ab06-496027844d36",
   "metadata": {},
   "outputs": [],
   "source": [
    "da1 = xr.DataArray([1, 2, 3], coords=[('x', [10, 20, 30])])\n",
    "da2 = xr.DataArray([4, 5], coords=[('x', [20, 40])])\n"
   ]
  },
  {
   "cell_type": "code",
   "execution_count": null,
   "id": "ffd9ed49-be6d-4857-a28e-1731045e1bde",
   "metadata": {},
   "outputs": [],
   "source": [
    "da1 + da2"
   ]
  },
  {
   "cell_type": "code",
   "execution_count": null,
   "id": "cfed9841-879e-4264-8f51-27c76518ac47",
   "metadata": {},
   "outputs": [],
   "source": [
    "da1,da2 = xr.align(da1, da2, join='outer')"
   ]
  },
  {
   "cell_type": "code",
   "execution_count": null,
   "id": "72153135-c5d1-4853-a998-611e0f45de40",
   "metadata": {},
   "outputs": [],
   "source": [
    "da1"
   ]
  },
  {
   "cell_type": "code",
   "execution_count": null,
   "id": "bdfd1bb6-bde4-4609-8569-e64d28227f08",
   "metadata": {},
   "outputs": [],
   "source": [
    "da2"
   ]
  },
  {
   "cell_type": "code",
   "execution_count": null,
   "id": "cf63df99-fcf2-4303-beb3-99b9a60ae8ba",
   "metadata": {},
   "outputs": [],
   "source": [
    "da1.fillna(0) + da2.fillna(0)"
   ]
  },
  {
   "cell_type": "markdown",
   "id": "dcb85470-747b-4b02-8066-8b68599ae3c4",
   "metadata": {},
   "source": [
    "#### Apply operations over dimensions by name: x.sum('time')"
   ]
  },
  {
   "cell_type": "code",
   "execution_count": null,
   "id": "ba12c55f-9882-4304-b299-cc51f1ce9c22",
   "metadata": {},
   "outputs": [],
   "source": [
    "# Create a DataArray\n",
    "data = xr.DataArray(\n",
    "    np.random.rand(10, 5, 5),\n",
    "    dims=(\"time\", \"lat\", \"lon\"),\n",
    "    coords={\n",
    "        \"time\": pd.date_range(\"2023-01-01\", periods=10),\n",
    "        \"lat\": np.arange(5),\n",
    "        \"lon\": np.arange(5),\n",
    "    },\n",
    ")\n",
    "print(data)\n"
   ]
  },
  {
   "cell_type": "code",
   "execution_count": null,
   "id": "a7a5d217-e828-4e52-90d8-be29e3770346",
   "metadata": {},
   "outputs": [],
   "source": [
    "# Sum along \"time\" dimension\n",
    "data_sum = data.sum(dim=\"time\")\n",
    "\n",
    "print(data_sum)"
   ]
  },
  {
   "cell_type": "markdown",
   "id": "8ef17aa5-f37c-4a9e-97ac-76ce7eeb871a",
   "metadata": {},
   "source": [
    "#### Select values by label (or logical location) instead of integer location: x.loc['2014-01-01'] or x.sel(time='2014-01-01')"
   ]
  },
  {
   "cell_type": "code",
   "execution_count": null,
   "id": "a3e1814a-a829-458a-b06e-8cac6e402cbc",
   "metadata": {},
   "outputs": [],
   "source": [
    "\n",
    "# Crea un DataArray di esempio\n",
    "data = xr.DataArray(\n",
    "    [100, 200, 300, 400, 500],\n",
    "    dims=\"time\",\n",
    "    coords={\"time\": pd.date_range(\"2014-01-01\", periods=5)},\n",
    ")\n",
    "\n",
    "# Seleziona il valore corrispondente alla data '2014-01-03'\n",
    "value_03 = data.loc['2014-01-03']\n",
    "\n",
    "# Seleziona il valore in cui la coordinata 'time' è uguale a '2014-01-05'\n",
    "value_05 = data.sel(time='2014-01-05')"
   ]
  },
  {
   "cell_type": "code",
   "execution_count": null,
   "id": "5e302d24-910f-4baf-806d-433ea03bc2bc",
   "metadata": {},
   "outputs": [],
   "source": [
    "print(f\"value_03: {value_03}\")\n",
    "print(f\"value_05: {value_05}\")"
   ]
  },
  {
   "cell_type": "markdown",
   "id": "d32155f4-b5cc-48f4-839b-cfb026d261c4",
   "metadata": {},
   "source": [
    "#### Mathematical operations (e.g., x - y) vectorize across multiple dimensions (array broadcasting) based on dimension names, not shape"
   ]
  },
  {
   "cell_type": "markdown",
   "id": "20a0af22-55d8-45cf-b187-92fa1e2caf85",
   "metadata": {},
   "source": [
    "In this example, arr1 has dimensions lat and lon, while arr2 has only the lon dimension. Despite the different shapes, xarray can perform the subtraction correctly because it aligns the two arrays based on the name of the lon dimension. If we had used NumPy, we would have had to manually reshape arr2 to match the shape of arr1 before performing the subtraction. Xarray simplifies this process by automatically aligning the arrays based on dimension names."
   ]
  },
  {
   "cell_type": "code",
   "execution_count": null,
   "id": "9656b5cd-c195-419d-adb4-5bac6514ab4a",
   "metadata": {},
   "outputs": [],
   "source": [
    "# Crea due DataArray con dimensioni diverse\n",
    "arr1 = xr.DataArray([[1, 2], [3, 4]], dims=[\"lat\", \"lon\"])\n",
    "arr2 = xr.DataArray([5, 6], dims=[\"lon\"])\n",
    "\n",
    "# Esegui una sottrazione\n",
    "result = arr1 - arr2\n",
    "\n",
    "# Stampa il risultato\n",
    "print(result)"
   ]
  },
  {
   "cell_type": "markdown",
   "id": "915bb618-2172-4ab9-b8d8-d915b75e7828",
   "metadata": {},
   "source": [
    "#### Easily use the split-apply-combine paradigm with groupby: x.groupby('time.dayofyear').mean()."
   ]
  },
  {
   "cell_type": "markdown",
   "id": "30843e11-6ece-4eba-bd9e-3edf0e6824cc",
   "metadata": {},
   "source": [
    "In this example, data.mean(dim=\"tempo\") calculates the average of the values along the \"tempo\" dimension, while data.sum(dim=\"latitudine\") calculates the sum along the \"latitudine\" dimension. Xarray identifies the dimensions by name, simplifying operations and making the code more readable."
   ]
  },
  {
   "cell_type": "code",
   "execution_count": null,
   "id": "cb65d9f8-06a0-4f9e-a4a9-c7f27c9c40d9",
   "metadata": {},
   "outputs": [],
   "source": [
    "\n",
    "# Crea una serie temporale multi-anno\n",
    "time = pd.date_range(\"2015-01-01\", \"2020-12-31\", freq=\"D\")\n",
    "\n",
    "# Genera temperature sintetiche con una componente stagionale e casuale\n",
    "np.random.seed(42)\n",
    "temperature = 10 + 5 * np.sin(2 * np.pi * time.dayofyear / 365) + np.random.normal(scale=2, size=len(time))\n",
    "\n",
    "# Crea un oggetto xarray\n",
    "ds = xr.DataArray(\n",
    "    data=temperature,\n",
    "    coords={\"time\": time},\n",
    "    dims=[\"time\"],\n",
    "    name=\"temperature\"\n",
    ")\n",
    "print(ds)"
   ]
  },
  {
   "cell_type": "code",
   "execution_count": null,
   "id": "31c8d7e1-8f7a-410e-b3d0-31fd498d75cd",
   "metadata": {},
   "outputs": [],
   "source": [
    "# Calcola la media per ogni giorno dell'anno\n",
    "daily_mean = ds.groupby(\"time.dayofyear\").mean()\n",
    "\n",
    "print(daily_mean)"
   ]
  },
  {
   "cell_type": "code",
   "execution_count": null,
   "id": "dd269856-a977-4d02-8ac6-7c3bb481a2bc",
   "metadata": {},
   "outputs": [],
   "source": [
    "import matplotlib.pyplot as plt\n",
    "# Plot delle medie giornaliere\n",
    "plt.figure(figsize=(10, 5))\n",
    "plt.plot(daily_mean.dayofyear, daily_mean, label=\"Climatologia media\")\n",
    "plt.title(\"Climatologia media giornaliera (2015-2020)\")\n",
    "plt.xlabel(\"Giorno dell'anno\")\n",
    "plt.ylabel(\"Temperatura (°C)\")\n",
    "plt.grid()\n",
    "plt.legend()\n",
    "plt.show()"
   ]
  },
  {
   "cell_type": "code",
   "execution_count": null,
   "id": "254286cb-9ab6-414b-bc07-2d7bee5c4026",
   "metadata": {},
   "outputs": [],
   "source": [
    "monthly_mean = ds.groupby(\"time.month\").mean()\n",
    "print(monthly_mean)"
   ]
  },
  {
   "cell_type": "code",
   "execution_count": null,
   "id": "1377e99f-4bc5-49de-aa46-16bbd9a7e2f4",
   "metadata": {},
   "outputs": [],
   "source": [
    "# Plot delle medie giornaliere\n",
    "plt.figure(figsize=(10, 5))\n",
    "plt.plot(monthly_mean.month, monthly_mean, label=\"Climatologia media\")\n",
    "plt.title(\"Climatologia media mensile (2015-2020)\")\n",
    "plt.xlabel(\"Mese dell'anno\")\n",
    "plt.ylabel(\"Temperatura (°C)\")\n",
    "plt.grid()\n",
    "plt.legend()\n",
    "plt.show()"
   ]
  },
  {
   "cell_type": "markdown",
   "id": "a6d2926a-e30a-423f-8acb-11685222bfbc",
   "metadata": {
    "jp-MarkdownHeadingCollapsed": true
   },
   "source": [
    "#### Keep track of arbitrary metadata in the form of a Python dictionary: x.attrs"
   ]
  },
  {
   "cell_type": "markdown",
   "id": "11f54cfb-78cd-4579-9995-27ac70d98896",
   "metadata": {},
   "source": [
    "The x.attrs attribute in xarray is a Python dictionary that allows arbitrary metadata to be attached to a DataArray or Dataset object. It is useful for providing additional information about the data, such as its source, units of measurement, a description, or any other relevant annotations."
   ]
  },
  {
   "cell_type": "code",
   "execution_count": null,
   "id": "149399b3-b9ea-41ec-9826-47c84e0d699f",
   "metadata": {},
   "outputs": [],
   "source": [
    "# Creiamo un semplice DataArray con dati di temperatura\n",
    "time = pd.date_range(\"2023-01-01\", periods=10, freq=\"D\")\n",
    "temperature = np.random.uniform(15, 25, size=len(time))\n",
    "\n",
    "temperature_da = xr.DataArray(\n",
    "    data=temperature,\n",
    "    coords={\"time\": time},\n",
    "    dims=[\"time\"],\n",
    "    name=\"temperature\"\n",
    ")\n",
    "\n",
    "# Aggiungiamo metadati utilizzando `attrs`\n",
    "temperature_da.attrs = {\n",
    "    \"units\": \"Celsius\",\n",
    "    \"description\": \"Temperature measurements\",\n",
    "    \"source\": \"Simulated data\",\n",
    "    \"history\": \"Generated for a tutorial on xarray.attrs\"\n",
    "}\n",
    "\n",
    "# Visualizziamo l'oggetto\n",
    "print(temperature_da)"
   ]
  },
  {
   "cell_type": "code",
   "execution_count": null,
   "id": "3becf025-1d79-4007-a744-12819f353aad",
   "metadata": {},
   "outputs": [],
   "source": [
    "#As for dictionaries:\n",
    "print(\"Unità:\", temperature_da.attrs[\"units\"])"
   ]
  },
  {
   "cell_type": "code",
   "execution_count": null,
   "id": "986ad6c8-76a5-4f88-b8c5-93f363a03f0e",
   "metadata": {},
   "outputs": [],
   "source": [
    "temperature_da.attrs[\"source\"] = \"Real sensor data\"\n",
    "temperature_da.attrs[\"new_field\"] = \"Additional metadata\""
   ]
  },
  {
   "cell_type": "code",
   "execution_count": null,
   "id": "878113b3-272b-426f-8572-5e91eccb7c6e",
   "metadata": {},
   "outputs": [],
   "source": [
    "temperature_da.attrs"
   ]
  },
  {
   "cell_type": "code",
   "execution_count": null,
   "id": "5d9fc778-de4c-4d9b-b79a-fa71738fcda8",
   "metadata": {},
   "outputs": [],
   "source": [
    "del temperature_da.attrs[\"new_field\"]"
   ]
  },
  {
   "cell_type": "code",
   "execution_count": null,
   "id": "7daf2508-91ee-4bbf-8838-0a1bdbb51e4e",
   "metadata": {},
   "outputs": [],
   "source": [
    "temperature_da.attrs"
   ]
  },
  {
   "cell_type": "markdown",
   "id": "e62c6023-7d13-4739-bb93-68d23f7cb564",
   "metadata": {},
   "source": [
    "A Dataset object can also contain metadata. You can add attributes both at the dataset level and to the individual DataArrays within it."
   ]
  },
  {
   "cell_type": "markdown",
   "id": "7cbfcb2a-12dc-431d-b69a-6cfe346f82ce",
   "metadata": {
    "jp-MarkdownHeadingCollapsed": true
   },
   "source": [
    "### Documentation"
   ]
  },
  {
   "cell_type": "markdown",
   "id": "8be760d8-2e65-4c54-b06e-de3917cad46c",
   "metadata": {},
   "source": [
    "Xarray has two core data structures, which build upon and extend the core strengths of NumPy and pandas. Both data structures are fundamentally N-dimensional:\n",
    "\n",
    "* DataArray is our implementation of a labeled, N-dimensional array. It is an N-D generalization of a pandas.Series\n",
    "    \n",
    "* Dataset is a multi-dimensional, in-memory array database. It is a dict-like container of DataArray objects aligned along any number of shared dimensions, and serves a similar purpose in xarray to the pandas.DataFrame.\n"
   ]
  },
  {
   "cell_type": "markdown",
   "id": "9a63ffc1",
   "metadata": {
    "slideshow": {
     "slide_type": "slide"
    }
   },
   "source": [
    "# Open the netcdf file with xarray"
   ]
  },
  {
   "cell_type": "code",
   "execution_count": null,
   "id": "46e897ac",
   "metadata": {},
   "outputs": [],
   "source": [
    "ds = xr.open_dataset('data/20230101_m-OGS--PFTC-MedBFM4-MED-b20230214_an-sv08.00_lev.nc')"
   ]
  },
  {
   "cell_type": "markdown",
   "id": "731a5eb4",
   "metadata": {
    "slideshow": {
     "slide_type": "slide"
    }
   },
   "source": [
    "#### Take a look at our dataset: \n",
    "The file is divided into 4 sections: Dimensions, Coordinates, Data variables, Attributes</br>\n",
    "It is also possible to check the attributes and data representation"
   ]
  },
  {
   "cell_type": "code",
   "execution_count": null,
   "id": "d1694f4c",
   "metadata": {
    "slideshow": {
     "slide_type": "fragment"
    }
   },
   "outputs": [],
   "source": [
    "ds"
   ]
  },
  {
   "cell_type": "markdown",
   "id": "9dfb8a56",
   "metadata": {
    "slideshow": {
     "slide_type": "slide"
    }
   },
   "source": [
    "#### Inspect sections: two are dictionaries, two are arrays"
   ]
  },
  {
   "cell_type": "code",
   "execution_count": null,
   "id": "929e6e59",
   "metadata": {
    "slideshow": {
     "slide_type": "subslide"
    }
   },
   "outputs": [],
   "source": [
    "ds.dims"
   ]
  },
  {
   "cell_type": "code",
   "execution_count": null,
   "id": "b743f425",
   "metadata": {
    "slideshow": {
     "slide_type": "subslide"
    }
   },
   "outputs": [],
   "source": [
    "ds.attrs"
   ]
  },
  {
   "cell_type": "code",
   "execution_count": null,
   "id": "0cde837f",
   "metadata": {
    "slideshow": {
     "slide_type": "subslide"
    }
   },
   "outputs": [],
   "source": [
    "ds.attrs['institution']"
   ]
  },
  {
   "cell_type": "code",
   "execution_count": null,
   "id": "8e91e96a",
   "metadata": {
    "slideshow": {
     "slide_type": "slide"
    }
   },
   "outputs": [],
   "source": [
    "ds.coords"
   ]
  },
  {
   "cell_type": "code",
   "execution_count": null,
   "id": "28cb46d2",
   "metadata": {},
   "outputs": [],
   "source": [
    "ds.data_vars"
   ]
  },
  {
   "cell_type": "markdown",
   "id": "45c592de",
   "metadata": {
    "slideshow": {
     "slide_type": "slide"
    }
   },
   "source": [
    "#### How can I access the data?"
   ]
  },
  {
   "cell_type": "code",
   "execution_count": null,
   "id": "f09b6b0e",
   "metadata": {},
   "outputs": [],
   "source": [
    "ds.longitude"
   ]
  },
  {
   "cell_type": "markdown",
   "id": "4bb93b0b-bd00-4b73-b57b-d3666e3bd907",
   "metadata": {},
   "source": [
    "##### Different methods to access coordinates DataArrays"
   ]
  },
  {
   "cell_type": "code",
   "execution_count": null,
   "id": "9cbac101",
   "metadata": {
    "slideshow": {
     "slide_type": "slide"
    }
   },
   "outputs": [],
   "source": [
    "print(ds.longitude)\n",
    "print(\"%--------------------%\")\n",
    "print(ds[\"longitude\"])\n",
    "print(\"%--------------------%\")\n",
    "print(ds.coords[\"longitude\"])"
   ]
  },
  {
   "cell_type": "markdown",
   "id": "b8b42fe7",
   "metadata": {
    "slideshow": {
     "slide_type": "slide"
    }
   },
   "source": [
    "##### Use .values to access to the coordinates data values:"
   ]
  },
  {
   "cell_type": "code",
   "execution_count": null,
   "id": "4e34d355",
   "metadata": {},
   "outputs": [],
   "source": [
    "print(ds.longitude.values)\n",
    "print(\"%--------------------%\")\n",
    "print(ds[\"longitude\"].values)\n",
    "print(\"%--------------------%\")\n",
    "print(ds.coords[\"longitude\"].values)"
   ]
  },
  {
   "cell_type": "markdown",
   "id": "e49b71b4",
   "metadata": {
    "slideshow": {
     "slide_type": "slide"
    }
   },
   "source": [
    "### Analyzing variables"
   ]
  },
  {
   "cell_type": "markdown",
   "id": "88886de4-554c-4bf5-9a7a-ab6bc953eb42",
   "metadata": {},
   "source": [
    "##### To access the variables DataArray"
   ]
  },
  {
   "cell_type": "code",
   "execution_count": null,
   "id": "36c3e72b",
   "metadata": {},
   "outputs": [],
   "source": [
    "ds.phyc"
   ]
  },
  {
   "cell_type": "code",
   "execution_count": null,
   "id": "d1399c92",
   "metadata": {},
   "outputs": [],
   "source": [
    "ds.chl"
   ]
  },
  {
   "cell_type": "markdown",
   "id": "b149639f-2805-41bb-ae50-1a67eaf189df",
   "metadata": {},
   "source": [
    "##### Reading attributes from DataArray"
   ]
  },
  {
   "cell_type": "code",
   "execution_count": null,
   "id": "452c5c50",
   "metadata": {
    "slideshow": {
     "slide_type": "slide"
    }
   },
   "outputs": [],
   "source": [
    "print(\"Long name & standard name: \",ds.chl.long_name,ds.chl.standard_name,\"\\n\")\n",
    "print(\"%--------------------%\")\n",
    "print(\"Units: \",ds.chl.units,\"\\n\")\n",
    "print(\"%--------------------%\")\n",
    "print(\"Coordinates: \",ds[\"chl\"].coords,\"\\n\")\n",
    "print(\"%--------------------%\")\n",
    "print(\"Attributes: \",ds[\"chl\"].attrs,\"\\n\")\n",
    "print(\"%--------------------%\")\n",
    "print(\"Dimensions: \",ds.chl.dims,\"\\n\")"
   ]
  },
  {
   "cell_type": "code",
   "execution_count": null,
   "id": "dc1a88d8",
   "metadata": {
    "slideshow": {
     "slide_type": "slide"
    }
   },
   "outputs": [],
   "source": [
    "print(ds.chl.dims)\n",
    "print(\"%--------------------%\")\n",
    "print(ds.chl.longitude.dims)"
   ]
  },
  {
   "cell_type": "markdown",
   "id": "2c616820",
   "metadata": {
    "slideshow": {
     "slide_type": "slide"
    }
   },
   "source": [
    "####  Define a new dataset containing only the variable chlorophyll and then starting from this dataset we try to extract subsets by exploiting the coordinates"
   ]
  },
  {
   "cell_type": "markdown",
   "id": "38d640ec",
   "metadata": {},
   "source": [
    "| | Dimension lookup   | Index lookup    | DataArray syntax   |\n",
    "|---:|:-------------|:-----------|:------|\n",
    "| 1 | Positional  | By integer       | da[:, 0]   | \n",
    "| 2 | Positional  | By integer    | da.loc[:, 'IA']   |\n",
    "| 3 | By name  | By integer    | da.isel(space=0)</br>or da[dict(space=0)]   |\n",
    "| 4 | By name  | By label    | da.sel(space='IA')</br>or da.loc[dict(space='IA')]   |"
   ]
  },
  {
   "cell_type": "code",
   "execution_count": null,
   "id": "fde1ff5a",
   "metadata": {
    "slideshow": {
     "slide_type": "slide"
    }
   },
   "outputs": [],
   "source": [
    "chlorophyll = ds.chl\n",
    "chlorophyll"
   ]
  },
  {
   "cell_type": "markdown",
   "id": "4131a514-5676-4d82-8712-fef40b10fc41",
   "metadata": {},
   "source": [
    "### Data selection and slicing"
   ]
  },
  {
   "cell_type": "markdown",
   "id": "021b693d-53bb-42bc-9dc9-912b24c4316c",
   "metadata": {},
   "source": [
    "| | Dimension lookup   | Index lookup    | DataArray syntax   | Dataset syntax | Like what?\n",
    "|---:|:-------------|:-----------|:------|:------------|:-------------|\n",
    "| 1 | Positional  | By integer       | da[:, 0]   | not availabe | numpy |\n",
    "| 2 | Positional  | By label    | da.loc[:, 'IA']   | not available | pandas |\n",
    "| 3 | By name  | By integer    | da.isel(space=0)</br>or da[dict(space=0)]   | ds.isel(space=0)</br>or ds[dict(space=0)] | NA |\n",
    "| 4 | By name  | By label    | da.sel(space='IA')</br>or da.loc[dict(space='IA')]   | da.sel(space='IA')</br>or ds.loc[dict(space='IA')] | NA |"
   ]
  },
  {
   "cell_type": "markdown",
   "id": "ef827705",
   "metadata": {
    "slideshow": {
     "slide_type": "slide"
    }
   },
   "source": [
    "#### Selecting by time"
   ]
  },
  {
   "cell_type": "code",
   "execution_count": null,
   "id": "6b716e0e",
   "metadata": {},
   "outputs": [],
   "source": [
    "chlorophyll.loc[\"2023-01-01\"]"
   ]
  },
  {
   "cell_type": "markdown",
   "id": "3e4936ec",
   "metadata": {
    "slideshow": {
     "slide_type": "slide"
    }
   },
   "source": [
    "#### Selecting by a fixed depth"
   ]
  },
  {
   "cell_type": "code",
   "execution_count": null,
   "id": "02fbf747",
   "metadata": {},
   "outputs": [],
   "source": [
    "chlorophyll[:, 10, :, :]"
   ]
  },
  {
   "cell_type": "markdown",
   "id": "c645fdde",
   "metadata": {
    "slideshow": {
     "slide_type": "slide"
    }
   },
   "source": [
    "#### Slicing along the depth"
   ]
  },
  {
   "cell_type": "code",
   "execution_count": null,
   "id": "5114045d",
   "metadata": {},
   "outputs": [],
   "source": [
    "ds.isel(time=0, depth=slice(0, 2))"
   ]
  },
  {
   "cell_type": "markdown",
   "id": "7de33afb",
   "metadata": {
    "slideshow": {
     "slide_type": "slide"
    }
   },
   "source": [
    "#### Select the coordinates closest to those given"
   ]
  },
  {
   "cell_type": "code",
   "execution_count": null,
   "id": "7dea2a6a",
   "metadata": {},
   "outputs": [],
   "source": [
    "chlorophyll.sel(depth=[1, 30], method=\"nearest\")"
   ]
  },
  {
   "cell_type": "markdown",
   "id": "f9d438d8",
   "metadata": {
    "slideshow": {
     "slide_type": "slide"
    }
   },
   "source": [
    "#### The following syntaxes do not work because it looks for coincident values with latitude equal to 34 or 38"
   ]
  },
  {
   "cell_type": "code",
   "execution_count": null,
   "id": "8efa95f2-f28e-4bd5-ba4d-e28046dde67e",
   "metadata": {},
   "outputs": [],
   "source": [
    "chlorophyll[0,0].where(chlorophyll.latitude.isin([34,38]))"
   ]
  },
  {
   "cell_type": "code",
   "execution_count": null,
   "id": "ea7e3117-87a7-4a32-b49b-fb8056b77a99",
   "metadata": {},
   "outputs": [],
   "source": [
    "np.any(~np.isnan(chlorophyll[0,0].where(chlorophyll.latitude.isin([34,38])).values))"
   ]
  },
  {
   "cell_type": "code",
   "execution_count": null,
   "id": "021024ae-1575-4dd9-a718-685d33009886",
   "metadata": {
    "slideshow": {
     "slide_type": "slide"
    }
   },
   "outputs": [],
   "source": [
    "chlorophyll[0,0].where((chlorophyll.latitude==34) & (chlorophyll.longitude==15))"
   ]
  },
  {
   "cell_type": "code",
   "execution_count": null,
   "id": "22d289bc-633b-4ece-9005-37d93e19aa3e",
   "metadata": {},
   "outputs": [],
   "source": [
    "np.any(~np.isnan(chlorophyll[0,0].where((chlorophyll.latitude==34) & (chlorophyll.longitude==15)).values))"
   ]
  },
  {
   "cell_type": "markdown",
   "id": "2481f128",
   "metadata": {
    "slideshow": {
     "slide_type": "slide"
    }
   },
   "source": [
    "### Store the chlorophyll density at the surface level in the chlorophyll_0 data array "
   ]
  },
  {
   "cell_type": "code",
   "execution_count": null,
   "id": "90a19b52",
   "metadata": {},
   "outputs": [],
   "source": [
    "chlorophyll_0=chlorophyll[0, 0, :, :]#.drop_vars(['time','depth'])\n",
    "chlorophyll_0"
   ]
  },
  {
   "cell_type": "markdown",
   "id": "5bee88c9",
   "metadata": {
    "slideshow": {
     "slide_type": "slide"
    }
   },
   "source": [
    "### Start plotting maps using the plotting function of xarray"
   ]
  },
  {
   "cell_type": "code",
   "execution_count": null,
   "id": "5b723399",
   "metadata": {},
   "outputs": [],
   "source": [
    "chlorophyll_0.plot()"
   ]
  },
  {
   "cell_type": "markdown",
   "id": "48d2f089",
   "metadata": {
    "slideshow": {
     "slide_type": "slide"
    }
   },
   "source": [
    "### Changing colormap"
   ]
  },
  {
   "cell_type": "code",
   "execution_count": null,
   "id": "e899892e",
   "metadata": {
    "slideshow": {
     "slide_type": "-"
    }
   },
   "outputs": [],
   "source": [
    "chlorophyll_0.plot(cmap='plasma')"
   ]
  },
  {
   "cell_type": "markdown",
   "id": "aa117def-e9f8-4d5e-9d3a-bafee7a5af05",
   "metadata": {
    "slideshow": {
     "slide_type": "slide"
    }
   },
   "source": [
    "### Plotting using coordinate slicing"
   ]
  },
  {
   "cell_type": "code",
   "execution_count": null,
   "id": "42cb5167",
   "metadata": {},
   "outputs": [],
   "source": [
    "chlorophyll_0.where(chlorophyll_0.latitude < 42).plot()"
   ]
  },
  {
   "cell_type": "code",
   "execution_count": null,
   "id": "a6aaf648",
   "metadata": {
    "slideshow": {
     "slide_type": "slide"
    }
   },
   "outputs": [],
   "source": [
    "chlorophyll_0.where(chlorophyll_0.latitude +chlorophyll_0.longitude< 50).plot()"
   ]
  },
  {
   "cell_type": "markdown",
   "id": "2d6de13b",
   "metadata": {
    "slideshow": {
     "slide_type": "slide"
    }
   },
   "source": [
    "### Focusing on the sea of Sicily"
   ]
  },
  {
   "cell_type": "code",
   "execution_count": null,
   "id": "2a53c718-9d06-4379-a2eb-109d56b08ebc",
   "metadata": {},
   "outputs": [],
   "source": [
    "lon = ds.coords[\"longitude\"]\n",
    "lat = ds.coords[\"latitude\"]\n",
    "#chlorophyll[0,0].loc[dict(longitude=lon[(lon > 10) & (lon < 20)], latitude=lat[(lat > 36) & (lat < 40)])].plot()\n",
    "chlorophyll_0.loc[dict(longitude=lon[(lon > 10) & (lon < 20)], latitude=lat[(lat > 36) & (lat < 40)])].plot()"
   ]
  },
  {
   "cell_type": "markdown",
   "id": "248754f8",
   "metadata": {
    "slideshow": {
     "slide_type": "slide"
    }
   },
   "source": [
    "#### In this case the slicing works because I am selecting latitude and longitude values corresponding to elements number 100 and 500 of the respective arrays</br>\n",
    "Plot of  vertical profile of the chlorophyll density along depth"
   ]
  },
  {
   "cell_type": "code",
   "execution_count": null,
   "id": "649aba52",
   "metadata": {},
   "outputs": [],
   "source": [
    "chlorophyll.isel(latitude=126, longitude=115).plot()"
   ]
  },
  {
   "cell_type": "markdown",
   "id": "c8bd6cd3",
   "metadata": {
    "slideshow": {
     "slide_type": "slide"
    }
   },
   "source": [
    "### Trend of the chlorophyll density along the latitude"
   ]
  },
  {
   "cell_type": "code",
   "execution_count": null,
   "id": "368cc3e2-3107-4192-b0e6-134486063317",
   "metadata": {},
   "outputs": [],
   "source": [
    "chlorophyll[0, 1, :, 1]"
   ]
  },
  {
   "cell_type": "code",
   "execution_count": null,
   "id": "cc0ab056",
   "metadata": {},
   "outputs": [],
   "source": [
    "chlorophyll[0, 1, :, 10].plot.line(color=\"purple\", marker=\"o\")"
   ]
  },
  {
   "cell_type": "markdown",
   "id": "2ee1b012",
   "metadata": {
    "slideshow": {
     "slide_type": "slide"
    }
   },
   "source": [
    "### Plot of vertical profile and histogram of the chlorophyll density along depth using subplots"
   ]
  },
  {
   "cell_type": "code",
   "execution_count": null,
   "id": "65477542",
   "metadata": {
    "slideshow": {
     "slide_type": "-"
    }
   },
   "outputs": [],
   "source": [
    "fig, axs = plt.subplots(ncols=2, figsize=(12,4))\n",
    "chlorophyll.isel(latitude=126, longitude=115).plot(ax=axs[0])\n",
    "chlorophyll.isel(latitude=126, longitude=115).plot.hist(ax=axs[1])\n",
    "plt.tight_layout()\n",
    "plt.draw()"
   ]
  },
  {
   "cell_type": "markdown",
   "id": "e5743663",
   "metadata": {
    "slideshow": {
     "slide_type": "slide"
    }
   },
   "source": [
    "### Compare the density of chlorophyll at different at different longitude"
   ]
  },
  {
   "cell_type": "code",
   "execution_count": null,
   "id": "93a2fd4b",
   "metadata": {
    "slideshow": {
     "slide_type": "-"
    }
   },
   "outputs": [],
   "source": [
    "chlorophyll.isel(depth=1, longitude=[15,20]).plot(x=\"latitude\", hue=\"longitude\")"
   ]
  },
  {
   "cell_type": "markdown",
   "id": "fc33ab91",
   "metadata": {
    "slideshow": {
     "slide_type": "slide"
    }
   },
   "source": [
    "### Some other plot available"
   ]
  },
  {
   "cell_type": "code",
   "execution_count": null,
   "id": "f49b2bb6",
   "metadata": {
    "slideshow": {
     "slide_type": "-"
    }
   },
   "outputs": [],
   "source": [
    "chlorophyll[0, 1, :, :].plot.contour()"
   ]
  },
  {
   "cell_type": "code",
   "execution_count": null,
   "id": "2fb8acba",
   "metadata": {
    "slideshow": {
     "slide_type": "slide"
    }
   },
   "outputs": [],
   "source": [
    "chlorophyll[0, 1, :, :].plot.contourf()"
   ]
  },
  {
   "cell_type": "code",
   "execution_count": null,
   "id": "29fe0bb6",
   "metadata": {
    "slideshow": {
     "slide_type": "slide"
    }
   },
   "outputs": [],
   "source": [
    "chlorophyll[0, 1, :, :].plot.surface(color='red')"
   ]
  },
  {
   "cell_type": "code",
   "execution_count": null,
   "id": "beb12039-e542-4ed4-b042-cb5db1906286",
   "metadata": {},
   "outputs": [],
   "source": []
  }
 ],
 "metadata": {
  "celltoolbar": "Slideshow",
  "kernelspec": {
   "display_name": "Python 3 (ipykernel)",
   "language": "python",
   "name": "python3"
  },
  "language_info": {
   "codemirror_mode": {
    "name": "ipython",
    "version": 3
   },
   "file_extension": ".py",
   "mimetype": "text/x-python",
   "name": "python",
   "nbconvert_exporter": "python",
   "pygments_lexer": "ipython3",
   "version": "3.13.0"
  }
 },
 "nbformat": 4,
 "nbformat_minor": 5
}
