{
 "cells": [
  {
   "cell_type": "markdown",
   "id": "96535338",
   "metadata": {
    "slideshow": {
     "slide_type": "slide"
    }
   },
   "source": [
    "<h1 style=\"text-align: center;\">Open_netcdf Meteo data</h1>"
   ]
  },
  {
   "cell_type": "markdown",
   "id": "9a63ffc1",
   "metadata": {
    "slideshow": {
     "slide_type": "slide"
    }
   },
   "source": [
    "#### Start importing libraries and open the netcdf file with xarray"
   ]
  },
  {
   "cell_type": "code",
   "execution_count": null,
   "id": "35844d06",
   "metadata": {},
   "outputs": [],
   "source": [
    "import xarray as xr\n",
    "import matplotlib.pyplot as plt\n",
    "import numpy as np"
   ]
  },
  {
   "cell_type": "code",
   "execution_count": null,
   "id": "46e897ac",
   "metadata": {},
   "outputs": [],
   "source": [
    "ds = xr.open_dataset('data/data-20231101T042132Z-e90372ab-eeca-41ef-b6ca-c9e52edc7955_se3llonlatbox.nc')"
   ]
  },
  {
   "cell_type": "markdown",
   "id": "731a5eb4",
   "metadata": {
    "slideshow": {
     "slide_type": "slide"
    }
   },
   "source": [
    "#### Take a look at our dataset: \n",
    "The file is divided into 4 sections: Dimensions, Coordinates, Data variables, Attributes</br>\n",
    "It is possible also check the attributes and data representation"
   ]
  },
  {
   "cell_type": "code",
   "execution_count": null,
   "id": "d1694f4c",
   "metadata": {
    "slideshow": {
     "slide_type": "fragment"
    }
   },
   "outputs": [],
   "source": [
    "ds"
   ]
  },
  {
   "cell_type": "markdown",
   "id": "9dfb8a56",
   "metadata": {
    "slideshow": {
     "slide_type": "slide"
    }
   },
   "source": [
    "#### Inspect sections"
   ]
  },
  {
   "cell_type": "code",
   "execution_count": null,
   "id": "929e6e59",
   "metadata": {
    "slideshow": {
     "slide_type": "subslide"
    }
   },
   "outputs": [],
   "source": [
    "ds.dims"
   ]
  },
  {
   "cell_type": "code",
   "execution_count": null,
   "id": "8e91e96a",
   "metadata": {
    "slideshow": {
     "slide_type": "slide"
    }
   },
   "outputs": [],
   "source": [
    "ds.coords"
   ]
  },
  {
   "cell_type": "code",
   "execution_count": null,
   "id": "28cb46d2",
   "metadata": {},
   "outputs": [],
   "source": [
    "ds.data_vars"
   ]
  },
  {
   "cell_type": "markdown",
   "id": "e49b71b4",
   "metadata": {
    "slideshow": {
     "slide_type": "slide"
    }
   },
   "source": [
    "### Analyzing variables"
   ]
  },
  {
   "cell_type": "markdown",
   "id": "45c592de",
   "metadata": {
    "slideshow": {
     "slide_type": "slide"
    }
   },
   "source": [
    "#### How can I access the data?"
   ]
  },
  {
   "cell_type": "code",
   "execution_count": null,
   "id": "36c3e72b",
   "metadata": {},
   "outputs": [],
   "source": [
    "ds.tp"
   ]
  },
  {
   "cell_type": "markdown",
   "id": "d542a2a0-6b4c-4024-99ba-9c9bfb83769a",
   "metadata": {},
   "source": [
    "####  Define a new dataset containing only the variable precipitation"
   ]
  },
  {
   "cell_type": "code",
   "execution_count": null,
   "id": "fde1ff5a",
   "metadata": {
    "slideshow": {
     "slide_type": "slide"
    }
   },
   "outputs": [],
   "source": [
    "precipitation = ds.tp\n",
    "precipitation"
   ]
  },
  {
   "cell_type": "markdown",
   "id": "ef827705",
   "metadata": {
    "slideshow": {
     "slide_type": "slide"
    }
   },
   "source": [
    "### Selecting by time"
   ]
  },
  {
   "cell_type": "code",
   "execution_count": null,
   "id": "6b716e0e",
   "metadata": {},
   "outputs": [],
   "source": [
    "precipitation_event=precipitation.loc[\"2023-11-02T19:00:00.000000000\"]\n",
    "precipitation_event"
   ]
  },
  {
   "cell_type": "markdown",
   "id": "5bee88c9",
   "metadata": {
    "slideshow": {
     "slide_type": "slide"
    }
   },
   "source": [
    "### Start plotting maps using the plotting function of xarray"
   ]
  },
  {
   "cell_type": "code",
   "execution_count": null,
   "id": "5b723399",
   "metadata": {},
   "outputs": [],
   "source": [
    "precipitation_event.plot()"
   ]
  },
  {
   "cell_type": "markdown",
   "id": "248754f8",
   "metadata": {
    "slideshow": {
     "slide_type": "slide"
    }
   },
   "source": [
    "#### Let's select a lat lon point using the indexes of the grid"
   ]
  },
  {
   "cell_type": "code",
   "execution_count": null,
   "id": "649aba52",
   "metadata": {},
   "outputs": [],
   "source": [
    "precipitation.isel(x=165, y=115).plot()"
   ]
  },
  {
   "cell_type": "code",
   "execution_count": null,
   "id": "04fea714-167e-4f88-956a-a93217e2122e",
   "metadata": {},
   "outputs": [],
   "source": [
    "# print(precipitation.lat)\n",
    "abslon = np.abs(precipitation.lon-10.43)\n",
    "abslat = np.abs(precipitation.lat-43.45)\n",
    "\n",
    "c = np.maximum(abslon, abslat)\n",
    "\n",
    "fig, axes = plt.subplots(1,2,figsize=(8, 4),layout='constrained')\n",
    "axes[0].pcolormesh(abslon.values)\n",
    "axes[1].pcolormesh(abslat.values)\n",
    "\n",
    "fig0, axes0 = plt.subplots(1,1,figsize=(4, 4),layout='constrained')\n",
    "axes0.pcolormesh(c)\n",
    "\n",
    "([xloc], [yloc]) = np.where(c == np.min(c))\n",
    "print(xloc,yloc)\n",
    "fig1, axes1 = plt.subplots(1,1,figsize=(8, 4),layout='constrained')\n",
    "\n",
    "# precipitation_event.isel(x=yloc, y=xloc).plot()\n",
    "precipitation.isel(x=xloc, y=yloc).plot()"
   ]
  },
  {
   "cell_type": "markdown",
   "id": "c8bd6cd3",
   "metadata": {
    "slideshow": {
     "slide_type": "slide"
    }
   },
   "source": [
    "### Plot contour levels"
   ]
  },
  {
   "cell_type": "code",
   "execution_count": null,
   "id": "f49b2bb6",
   "metadata": {
    "slideshow": {
     "slide_type": "-"
    }
   },
   "outputs": [],
   "source": [
    "precipitation_event.plot.contour()"
   ]
  },
  {
   "cell_type": "markdown",
   "id": "82171040-f3ac-4775-93dc-fc8dc59a9cbb",
   "metadata": {},
   "source": [
    "### Plot filled contour"
   ]
  },
  {
   "cell_type": "code",
   "execution_count": null,
   "id": "2fb8acba",
   "metadata": {
    "slideshow": {
     "slide_type": "slide"
    }
   },
   "outputs": [],
   "source": [
    "precipitation_event.plot.contourf()"
   ]
  },
  {
   "cell_type": "code",
   "execution_count": null,
   "id": "16bed972-b797-4c0a-9b9b-158ee3ef9fe1",
   "metadata": {},
   "outputs": [],
   "source": [
    "import cartopy.crs as ccrs\n",
    "plt.figure(figsize=(14, 6))\n",
    "ax = plt.axes(projection=ccrs.PlateCarree())\n",
    "ax.set_global()\n",
    "precipitation_event.plot.pcolormesh(\n",
    "    ax=ax, transform=ccrs.PlateCarree(), x=\"lon\", y=\"lat\", cmap='gist_stern_r', vmax=30\n",
    ")\n",
    "ax.coastlines()\n",
    "ax.set_ylim([36, 48])\n",
    "ax.set_xlim([4, 20])"
   ]
  },
  {
   "cell_type": "code",
   "execution_count": null,
   "id": "483cd585-2d87-4177-afb1-89f48d16201f",
   "metadata": {},
   "outputs": [],
   "source": [
    "# Define the area of interest\n",
    "plt.figure(figsize=(14, 6))\n",
    "ax = plt.axes(projection=ccrs.PlateCarree())\n",
    "ax.set_global()\n",
    "precipitation_event.plot.pcolormesh(\n",
    "    ax=ax, transform=ccrs.PlateCarree(), x=\"lon\", y=\"lat\", cmap='gist_stern_r'\n",
    ")\n",
    "ax.coastlines()\n",
    "lon_min, lon_max = 8.7, 13.5\n",
    "lat_min, lat_max = 42.7, 45.5\n",
    "ax.set_extent([lon_min, lon_max, lat_min, lat_max], crs=ccrs.PlateCarree())\n",
    "\n"
   ]
  },
  {
   "cell_type": "code",
   "execution_count": null,
   "id": "875c88e3-e5ab-4ea5-bf6f-b031d01274df",
   "metadata": {},
   "outputs": [],
   "source": [
    "# Define the area of interest\n",
    "plt.figure(figsize=(14, 6))\n",
    "ax = plt.axes(projection=ccrs.PlateCarree())\n",
    "ax.set_global()\n",
    "precipitation_event.plot.contourf(\n",
    "    ax=ax, transform=ccrs.PlateCarree(), x=\"lon\", y=\"lat\", cmap='gist_stern_r'\n",
    ")\n",
    "ax.coastlines()\n",
    "lon_min, lon_max = 8.7, 13.5\n",
    "lat_min, lat_max = 42.7, 45.5\n",
    "ax.set_extent([lon_min, lon_max, lat_min, lat_max], crs=ccrs.PlateCarree())\n",
    "\n"
   ]
  },
  {
   "cell_type": "code",
   "execution_count": null,
   "id": "4a36d49c-d2f4-418e-bc23-d1b401261937",
   "metadata": {},
   "outputs": [],
   "source": []
  }
 ],
 "metadata": {
  "celltoolbar": "Slideshow",
  "kernelspec": {
   "display_name": "Python 3 (ipykernel)",
   "language": "python",
   "name": "python3"
  },
  "language_info": {
   "codemirror_mode": {
    "name": "ipython",
    "version": 3
   },
   "file_extension": ".py",
   "mimetype": "text/x-python",
   "name": "python",
   "nbconvert_exporter": "python",
   "pygments_lexer": "ipython3",
   "version": "3.13.0"
  }
 },
 "nbformat": 4,
 "nbformat_minor": 5
}
